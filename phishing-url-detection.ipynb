{
  "nbformat": 4,
  "nbformat_minor": 0,
  "metadata": {
    "colab": {
      "provenance": []
    },
    "kernelspec": {
      "name": "python3",
      "display_name": "Python 3"
    },
    "language_info": {
      "name": "python"
    }
  },
  "cells": [
    {
      "cell_type": "code",
      "execution_count": 2,
      "metadata": {
        "id": "JFN8Ym6wNcTK"
      },
      "outputs": [],
      "source": [
        "import re\n",
        "import requests\n",
        "\n",
        "def check_phishing_url(url):\n",
        "    with open(\"/content/phishing-domains-ACTIVE.txt\", \"r\") as f:\n",
        "        malicious_urls = f.read().splitlines()\n",
        "\n",
        "\n",
        "    if url in malicious_urls:\n",
        "        return True\n",
        "\n",
        "    suspicious_patterns = [\n",
        "        r\"https?://(?:www\\.)?(?:login|account)\\.\\w+\\.\\w+\",\n",
        "        r\"\\d{1,3}\\.\\d{1,3}\\.\\d{1,3}\\.\\d{1,3}\"\n",
        "    ]\n",
        "\n",
        "    for pattern in suspicious_patterns:\n",
        "        if re.search(pattern, url):\n",
        "            return True\n",
        "\n",
        "    return False"
      ]
    },
    {
      "cell_type": "code",
      "source": [
        "import hashlib\n",
        "\n",
        "def analyze_file(file_path):\n",
        "\n",
        "    with open(file_path, \"rb\") as f:\n",
        "        bytes = f.read()\n",
        "        file_hash = hashlib.sha256(bytes).hexdigest()\n",
        "\n",
        "\n",
        "    with open(\"/content/full-hash-sha256-aa.txt\", \"r\") as f:\n",
        "        malicious_hashes = f.read().splitlines()\n",
        "\n",
        "    return file_hash in malicious_hashes"
      ],
      "metadata": {
        "id": "L1sed6awPTFe"
      },
      "execution_count": 3,
      "outputs": []
    },
    {
      "cell_type": "code",
      "source": [
        "def scan_logs(log_file):\n",
        "    keywords = [\"unauthorized\", \"breach\", \"admin\", \"root\", \"access denied\"]\n",
        "    alerts = []\n",
        "\n",
        "    with open(log_file, \"r\") as f:\n",
        "        for line in f:\n",
        "            for keyword in keywords:\n",
        "                if keyword in line.lower():\n",
        "                    alerts.append(line.strip())\n",
        "                    break\n",
        "\n",
        "    return alerts"
      ],
      "metadata": {
        "id": "FE83NK2BPcxA"
      },
      "execution_count": 4,
      "outputs": []
    },
    {
      "cell_type": "code",
      "source": [
        "if __name__ == \"__main__\":\n",
        "\n",
        "    test_url = \"0000000o.weebly.com\"\n",
        "    print(f\"Phishing check: {check_phishing_url(test_url)}\")\n",
        "\n",
        "\n",
        "    print(f\"Malware detected: {analyze_file('/content/windows.exe')}\")\n",
        ""
      ],
      "metadata": {
        "colab": {
          "base_uri": "https://localhost:8080/"
        },
        "id": "HjHh9YJIPgV9",
        "outputId": "5022de9a-86a0-43e6-d2b2-8f037c5d3ff2"
      },
      "execution_count": 10,
      "outputs": [
        {
          "output_type": "stream",
          "name": "stdout",
          "text": [
            "Phishing check: True\n",
            "Malware detected: False\n"
          ]
        }
      ]
    }
  ]
}